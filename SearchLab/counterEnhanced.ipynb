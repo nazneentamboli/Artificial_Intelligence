{
 "cells": [
  {
   "cell_type": "markdown",
   "metadata": {},
   "source": [
    "**Counter**\n",
    "\n",
    "* A counter stores a single number, the count\n",
    "* You can add increment or decrement the counter, but you can't decrement its value past 0.\n",
    "\n",
    "* A counter problem is an initial value for the counter, and a goal value\n",
    "* The search is for a sequence of increment and decrement operations that move the counter value from the initial value to the goal value\n",
    "\n",
    "* No, there is nothing difficult about the problem!\n"
   ]
  },
  {
   "cell_type": "markdown",
   "metadata": {},
   "source": [
    "### Enhanced Counter\n",
    "\n",
    "Add two operations to the counter\n",
    " 1.  Double -- doubles the value\n",
    " 2.  Clear -- sets value to zero\n",
    " \n",
    "Test the clear operation on a problem where the initial value is 10000 and the goal value is 5.\n",
    "How does BFS, DFS, and the heuristic from the previous counter work?"
   ]
  },
  {
   "cell_type": "code",
   "execution_count": null,
   "metadata": {},
   "outputs": [],
   "source": []
  }
 ],
 "metadata": {
  "kernelspec": {
   "display_name": "Python 3",
   "language": "python",
   "name": "python3"
  },
  "language_info": {
   "codemirror_mode": {
    "name": "ipython",
    "version": 3
   },
   "file_extension": ".py",
   "mimetype": "text/x-python",
   "name": "python",
   "nbconvert_exporter": "python",
   "pygments_lexer": "ipython3",
   "version": "3.7.0"
  }
 },
 "nbformat": 4,
 "nbformat_minor": 2
}
