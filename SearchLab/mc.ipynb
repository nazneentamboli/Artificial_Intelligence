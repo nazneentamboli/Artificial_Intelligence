{
 "cells": [
  {
   "cell_type": "markdown",
   "metadata": {},
   "source": [
    "##### Missionaries and Cannibals\n",
    "\n",
    "* There are N missionaries and M cannibals on the left bank of a river, and N => M\n",
    "* There is a boat on the left bank of the river\n",
    "* The goal is to move all missionaries and all cannibals to the right bank\n",
    "* The boat can only move if there is at least one person in it\n",
    "* The boat can hold at most two people\n",
    "* The number of missionaries must never be less than the number of cannibals on either the left or right bank\n"
   ]
  },
  {
   "cell_type": "code",
   "execution_count": 1,
   "metadata": {},
   "outputs": [],
   "source": [
    "# Here is a hint on representing the state and actions:\n",
    "\n",
    "# Initial state is missionaries and cannibals on the left. \n",
    "# Assume nobody on the boat or right, and the boat is on the left.\n",
    "\n",
    "#   def __init__(self, ml, cl):\n",
    "#        self._state = {\"ml\": ml, \"cl\": cl, \"mr\": 0, \"cr\": 0, \"mb\": 0, \"cb\": 0, \"bp\": \"l\"}\n",
    "\n",
    "# Possible actions are:\n",
    "#    \"em\" -- embark missionary\n",
    "#    \"ec\" -- embark cannibal\n",
    "#    \"dm\" -- disembark missionary\n",
    "#    \"dc\" -- disembark canibal\n",
    "#    \"mb\" -- move boat\n",
    "\n",
    "#  These actions are very state dependent.  For example, you can't move the boat\n",
    "#  if there is nobody on the boat, you can't embark a missionary if the boat is on the\n",
    "#  left bank and there are no missionaries there, and you can't disembark a cannibal if\n",
    "#  it would cause cannibals to outnumber missionaries on the bank the boat is at\n",
    "\n"
   ]
  },
  {
   "cell_type": "code",
   "execution_count": 9,
   "metadata": {},
   "outputs": [],
   "source": [
    "from searchClientInterface import Problem\n",
    "\n",
    "class MCProblem(Problem):\n",
    "    def __init__(self, ml, cl):\n",
    "        self._state = MCWorldState(ml, cl)\n",
    "        \n",
    "    def initial(self):\n",
    "        return self._state\n",
    "    \n",
    "    def isGoal(self, state):\n",
    "        # YOUR CODE HERE\n",
    " "
   ]
  },
  {
   "cell_type": "markdown",
   "metadata": {},
   "source": [
    "#### Some examples\n",
    "\n",
    "```\n",
    "from searchFramework import aStarSearch\n",
    "print(aStarSearch(MCProblem(1,1), bfsEvaluator()))\n",
    "\n",
    "    (['ec', 'em', 'mb', 'dm', 'dc'], (0.0, 12, 5, 4))\n",
    "    \n",
    "soln, stats = aStarSearch(MCProblem(10000, 10000), bfsEvaluator())\n",
    "print(stats)\n",
    "\n",
    "    (100.265625, 279981, 139989, 6)\n",
    "    \n",
    "def mcEstimator(state):\n",
    "    ## YOUR CODE HERE\n",
    "def mcEvaluator():\n",
    "    return Evaluator(lambda actions: len(actions), mcEstimator)\n",
    " \n",
    "soln, stats = aStarSearch(MCProblem(10000, 10000), mcEvaluator())\n",
    "print(len(soln))\n",
    "print(stats)\n",
    "  \n",
    "   79997\n",
    "   (37.25, 279968, 139980, 14)\n",
    "```    "
   ]
  },
  {
   "cell_type": "markdown",
   "metadata": {},
   "source": [
    "#### Task\n",
    "Write a solver for Missionaries and Cannibals, and test BFS and DFS.\n",
    "Write a heuristic estimator and compare it to BFS"
   ]
  },
  {
   "cell_type": "code",
   "execution_count": null,
   "metadata": {},
   "outputs": [],
   "source": []
  }
 ],
 "metadata": {
  "kernelspec": {
   "display_name": "Python 3",
   "language": "python",
   "name": "python3"
  },
  "language_info": {
   "codemirror_mode": {
    "name": "ipython",
    "version": 3
   },
   "file_extension": ".py",
   "mimetype": "text/x-python",
   "name": "python",
   "nbconvert_exporter": "python",
   "pygments_lexer": "ipython3",
   "version": "3.7.0"
  }
 },
 "nbformat": 4,
 "nbformat_minor": 2
}
