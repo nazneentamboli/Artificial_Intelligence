{
 "cells": [
  {
   "cell_type": "markdown",
   "metadata": {},
   "source": [
    "##### Graph Coloring\n",
    "\n",
    "* There a N locations, each with a name\n",
    "* There are k colors\n",
    "* There is a set of adjacency relationships between the locations\n",
    "* The goal is to assign a color to each locations such that no two adjacent locations have the same color\n"
   ]
  },
  {
   "cell_type": "code",
   "execution_count": null,
   "metadata": {},
   "outputs": [],
   "source": [
    "#  Here is the example from Russel and Norvig, Figure 6.1\n",
    "locations = ['WA', 'NT', 'Q', 'SA', 'NSW', 'V', 'T']\n",
    "colors = [\"red\", \"green\", \"blue\"]\n",
    "adjacencies = [('WA', 'NT'), ('WA', 'SA'), ('NT', 'SA'), ('NT', 'Q'), \n",
    "               ('SA', 'Q'), ('Q', 'NSW'), ('SA', 'NSW'), ('SA', 'V'),\n",
    "               ('NSW', 'V')]\n",
    "mapColor(locations, colors, adjacencies)"
   ]
  },
  {
   "cell_type": "markdown",
   "metadata": {},
   "source": [
    "### Task\n",
    "Write the map color function as above.  It calls A Star Search.  Its output\n",
    "is a dictionary assigning colors to locations, for example\n",
    "```\n",
    "{'WA': 'red', 'Q': \"blue\", ...}\n",
    "```\n",
    "\n",
    "Hint:  \n",
    "* A state is a (partial) assignment of colors to locations\n",
    "* To \"expand\" a state,\n",
    "  * First choose some unassigned location to assign\n",
    "  * The successors are all possible assignments of colors to that location\n",
    "  \n",
    "* For example, we start with an empty assignment {}.\n",
    "* Then we choose 'WA' as a location to work on next\n",
    "* The successors to this initial state would be \n",
    "  * {'WA': 'red'}\n",
    "  * {'WA': 'green'}\n",
    "  * {'WA': 'blue'}\n",
    "  \n",
    "The goal / solution checker needs to check two things:\n",
    "* Every location must have a color assigned\n",
    "* No two adjacent locations may be assigned the same color"
   ]
  },
  {
   "cell_type": "code",
   "execution_count": null,
   "metadata": {},
   "outputs": [],
   "source": []
  }
 ],
 "metadata": {
  "kernelspec": {
   "display_name": "Python 3",
   "language": "python",
   "name": "python3"
  },
  "language_info": {
   "codemirror_mode": {
    "name": "ipython",
    "version": 3
   },
   "file_extension": ".py",
   "mimetype": "text/x-python",
   "name": "python",
   "nbconvert_exporter": "python",
   "pygments_lexer": "ipython3",
   "version": "3.7.0"
  }
 },
 "nbformat": 4,
 "nbformat_minor": 2
}
