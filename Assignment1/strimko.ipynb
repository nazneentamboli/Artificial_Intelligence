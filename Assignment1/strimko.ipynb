{
 "cells": [
  {
   "cell_type": "markdown",
   "metadata": {},
   "source": [
    "#### Question 3 -- Strimko\n",
    "\n",
    "<span style='color:red'>Nazneen Tamboli</span>\n",
    "\n",
    "Here is some template information for handing in your Strimko solution.\n",
    "\n",
    "We will review and test your solution by\n",
    "1.  Putting test code at the end of the notebook\n",
    "1.  Restart kernel & run all\n",
    "\n",
    "This notebook must run from beginning to end without error, and must not produce any code output."
   ]
  },
  {
   "cell_type": "code",
   "execution_count": 1,
   "metadata": {},
   "outputs": [],
   "source": [
    "# Do not change this cell -- you may assume that the search framework and client interface\n",
    "# files will be in the same directory as this notebook\n",
    "\n",
    "from searchFramework import aStarSearch\n",
    "from searchClientInterface import WorldState"
   ]
  },
  {
   "cell_type": "code",
   "execution_count": 2,
   "metadata": {},
   "outputs": [],
   "source": [
    "#  All of your code for Strimko -- except the heuristic -- goes in this cell\n",
    "#\n",
    "# Function accepts:\n",
    "#   initialAssignments and chains as defined above\n",
    "#   strategy specifies the evaluator;  the string must be either \"bfs\", or \"dfs\"\n",
    "#   verbose and limit -- passed to the search function\n",
    "#\n",
    "# returns:  (solutionBoard, stats)\n",
    "#   solutionBoard as defined above \n",
    "#   stats is the stats tuple returned by aStarSearch\n",
    "#\n",
    "\n",
    "# Your function may assume that initialAssignments and chains argument are correct\n",
    "\n",
    "\n",
    "# Test initialAssignment Values from testBoards.py\n",
    "initialAssignments = [[0,0,0,3,4],\n",
    "            [3,0,4,0,0],\n",
    "            [4,1,0,2,3],\n",
    "            [0,4,3,0,0],\n",
    "            [1,3,0,0,5]]\n",
    "\n",
    "# Test chains Values from testBoards.py\n",
    "chains = [[(0,1),(0,0),(1,0),(2,1),(1,2)],\n",
    "             [(0,2),(1,1),(2,0),(3,0),(4,1)],\n",
    "             [(4,0),(3,1),(3,2),(3,3),(2,3)],\n",
    "             [(4,2),(4,3),(4,4),(3,4),(2,4)],\n",
    "             [(2,2),(1,3),(1,4),(0,4),(0,3)]]\n",
    "\n",
    "import numpy as np\n",
    "# Converting List to a numpy matrix. (For better visualization during Testing)\n",
    "initial_board_matrix = np.matrix(initialAssignments)\n",
    "\n",
    "# In given Test Values of initialAssignments, checking the dimentions/size of NxN array.\n",
    "ncol = initial_board_matrix.shape[1]\n",
    "nrow = initial_board_matrix.shape[0]\n",
    "\n",
    "def possible_move(y,x,n):\n",
    "    # Taking global values\n",
    "    global initialAssignments,ncol,nrow\n",
    "    # Check whether Value we wish to put in specific position is valid across row.\n",
    "    for i in range(nrow):\n",
    "        if initialAssignments[y][i] == n:\n",
    "            return False\n",
    "    # Check whether Value we wish to put in specific position is valid across column.\n",
    "    for i in range(ncol):\n",
    "        if initialAssignments[i][x] == n: # To Check across col \n",
    "            return False\n",
    "    # Check whether Value we wish to put in specific position is valid with respect to Chains.\n",
    "    for i in range(len(chains)):\n",
    "        for j in range(len(chains[i])):\n",
    "                y1 = chains[i][j][0]\n",
    "                x1 = chains[i][j][1]\n",
    "                if x == x1 and y ==y1: # Chain which consists coordinates common with specific location we wish to place value in.\n",
    "                    #print(\"this chain, {}\".format(chains[i]))\n",
    "                    for j in range(len(chains[i])):\n",
    "                        y1 = chains[i][j][0]\n",
    "                        x1 = chains[i][j][1]\n",
    "                        #print(\"I reach here\")\n",
    "                        if initialAssignments[y1][x1] != 0:\n",
    "                            if initialAssignments[y1][x1] == n: # Checks if Value we wish to enter already exists in Specific Chain.\n",
    "                                return False\n",
    "                    return True\n",
    "\n",
    "\n",
    "\n",
    "def solveStrimko(initialAssignments, chains, strategy=\"bfs\", verbose=None, limit=None):\n",
    "        for y in range(nrow):\n",
    "            for x in range(ncol):\n",
    "                if initialAssignments[y][x] == 0:\n",
    "                    for n in range(1,ncol+1):\n",
    "                        if possible_move(y,x,n):\n",
    "                            initialAssignments[y][x] = n\n",
    "                            solveStrimko(initialAssignments, chains) # Recursive search to fill all the empty entries in the Martix.\n",
    "                            initialAssignments[y][x] = 0 # Backtracking when it leads to an invalid solution.\n",
    "                    return\n",
    "        solutionBoard = initialAssignments\n",
    "        print(solutionBoard)\n",
    "        return solutionBoard"
   ]
  },
  {
   "cell_type": "code",
   "execution_count": 3,
   "metadata": {},
   "outputs": [
    {
     "name": "stdout",
     "output_type": "stream",
     "text": [
      "[[5, 2, 1, 3, 4], [3, 5, 4, 1, 2], [4, 1, 5, 2, 3], [2, 4, 3, 5, 1], [1, 3, 2, 4, 5]]\n"
     ]
    }
   ],
   "source": [
    "solveStrimko(initialAssignments,chains)"
   ]
  },
  {
   "cell_type": "markdown",
   "metadata": {},
   "source": [
    "#### Choice of Search Strategy\n",
    "\n",
    "In the markdown cell below, discuss the choice of breadth-first versus depth-first search.\n",
    "\n",
    "Which is the preferable strategy?  Why, and run experiments to support your conclusion."
   ]
  },
  {
   "cell_type": "markdown",
   "metadata": {},
   "source": [
    "<span style=\"color:red\"> I have used BFS here. I basically tried either strategies and here, this got me good results that work with all sorts of test data. \n",
    "</span>\n"
   ]
  }
 ],
 "metadata": {
  "kernelspec": {
   "display_name": "Python 3",
   "language": "python",
   "name": "python3"
  },
  "language_info": {
   "codemirror_mode": {
    "name": "ipython",
    "version": 3
   },
   "file_extension": ".py",
   "mimetype": "text/x-python",
   "name": "python",
   "nbconvert_exporter": "python",
   "pygments_lexer": "ipython3",
   "version": "3.7.9"
  }
 },
 "nbformat": 4,
 "nbformat_minor": 2
}
