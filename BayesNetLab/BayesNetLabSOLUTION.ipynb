{
 "cells": [
  {
   "cell_type": "code",
   "execution_count": 5,
   "metadata": {},
   "outputs": [],
   "source": [
    "from pomegranate import *\n",
    "\n",
    "sdist = DiscreteDistribution({'wet': .50, 'dry': .50})\n",
    "\n",
    "# This is the distribution for my water node\n",
    "wdist = ConditionalProbabilityTable(\n",
    "    [['wet', 'none', 0.8],\n",
    "     ['wet', 'some', 0.15],\n",
    "     ['wet', 'lots', 0.05],\n",
    "     ['dry', 'none', 0.95],\n",
    "     ['dry', 'some', 0.035],\n",
    "     ['dry', 'lots', 0.015]], [sdist])\n",
    "\n",
    "# Distribution for my water detector node\n",
    "detectordist = ConditionalProbabilityTable(\n",
    "    [['none', 'on', 0.01],\n",
    "     ['none', 'off', 0.99],\n",
    "     ['some', 'on', 0.90],\n",
    "     ['some', 'off', 0.10],\n",
    "     ['lots', 'on', 0.995],\n",
    "     ['lots', 'off', .005]], [wdist])\n",
    "\n",
    "#  My two nodes\n",
    "season = Node(sdist, \"season\")\n",
    "water = Node(wdist, \"water\")\n",
    "waterDetector = Node(detectordist, \"waterDetector\")\n",
    "\n",
    "# The Network\n",
    "model = BayesianNetwork(\"Water Detector\")\n",
    "model.add_states(season, water, waterDetector)\n",
    "model.add_edge(season, water)\n",
    "model.add_edge(water, waterDetector)\n",
    "model.bake()\n",
    "           \n",
    "def nodeIndex(model, nodeName, probs):\n",
    "    return list(map(lambda s: s.name, model.states)).index(nodeName)\n",
    "\n",
    "def probDist(nodeName, model, evidence):\n",
    "    return model.predict_proba(evidence)[nodeIndex(model, nodeName, model)].parameters[0]"
   ]
  },
  {
   "cell_type": "code",
   "execution_count": 9,
   "metadata": {},
   "outputs": [
    {
     "data": {
      "text/plain": [
       "0.8749999999999992"
      ]
     },
     "execution_count": 9,
     "metadata": {},
     "output_type": "execute_result"
    }
   ],
   "source": [
    "# Suppose I no information (including the season).  \n",
    "# What is the likelihood that there is any water in my basement?  \n",
    "# (I.e. water is not some and not lots)  Answer (single number!) in this cell.\n",
    "probDist('water', model, {})['none']"
   ]
  },
  {
   "cell_type": "code",
   "execution_count": 10,
   "metadata": {},
   "outputs": [
    {
     "data": {
      "text/plain": [
       "{'lots': 0.2668752793920448,\n",
       " 'some': 0.5632543585158643,\n",
       " 'none': 0.16987036209209097}"
      ]
     },
     "execution_count": 10,
     "metadata": {},
     "output_type": "execute_result"
    }
   ],
   "source": [
    "# Suppose it's the dry season, but my water detector is saying **on** -- \n",
    "# what do I believe about water in the basement? Answer in this cell -- three numbers,\n",
    "# a distribution over the domain values (none, some, lots)\n",
    "probDist('water', model, {'season': 'dry', 'waterDetector': 'on'})"
   ]
  },
  {
   "cell_type": "markdown",
   "metadata": {},
   "source": [
    "#### Problem 2"
   ]
  },
  {
   "cell_type": "code",
   "execution_count": 16,
   "metadata": {},
   "outputs": [],
   "source": [
    "bdist = DiscreteDistribution({True: .001, False: .999})\n",
    "edist = DiscreteDistribution({True: .002, False: .998})\n",
    "adist = ConditionalProbabilityTable(\n",
    "    [[True, True, True, .95],\n",
    "     [True, True, False, .05],\n",
    "     [True, False, True, .94],\n",
    "     [True, False, False, .06],\n",
    "     [False, True, True, .29],\n",
    "     [False, True, False, .71],\n",
    "     [False, False, True, .001],\n",
    "     [False, False, False, .999]], [bdist, edist])\n",
    "jdist = ConditionalProbabilityTable(\n",
    "    [[True, True, .9],\n",
    "    [True, False, .1],\n",
    "    [False, True, .45],\n",
    "    [False, False, .55]], [adist])\n",
    "mdist = ConditionalProbabilityTable(\n",
    "    [[True, True, .7],\n",
    "    [True, False, .3],\n",
    "    [False, True, .01],\n",
    "    [False, False, .99]], [adist])\n",
    "\n",
    "#  My two nodes\n",
    "b = Node(bdist, \"burglary\")\n",
    "e = Node(edist, \"earthquake\")\n",
    "a = Node(adist, \"alarm\")\n",
    "j = Node(jdist, \"john\")\n",
    "m = Node(mdist, \"mary\")\n",
    "\n",
    "# The Network\n",
    "model = BayesianNetwork(\"Alarm\")\n",
    "model.add_states(b,e,a,j,m)\n",
    "model.add_edge(b, a)\n",
    "model.add_edge(e,a)\n",
    "model.add_edge(a, j)\n",
    "model.add_edge(a, m)\n",
    "\n",
    "model.bake()"
   ]
  },
  {
   "cell_type": "code",
   "execution_count": 17,
   "metadata": {},
   "outputs": [
    {
     "name": "stdout",
     "output_type": "stream",
     "text": [
      "0.001000000000000444\n",
      "0.002516442000000935\n"
     ]
    }
   ],
   "source": [
    "print(probDist('burglary', model, {})[True])\n",
    "print(probDist('alarm', model, {})[True])"
   ]
  },
  {
   "cell_type": "code",
   "execution_count": 19,
   "metadata": {},
   "outputs": [
    {
     "data": {
      "text/plain": [
       "(0.001000000000000444, 0.011679205846255711, 10.679205846250527)"
      ]
     },
     "execution_count": 19,
     "metadata": {},
     "output_type": "execute_result"
    }
   ],
   "source": [
    "b1 = probDist('burglary', model, {})[True]\n",
    "b2 = probDist('burglary', model, {'john': False, 'mary': True})[True]\n",
    "(b1, b2, (b2 - b1)/b1)"
   ]
  },
  {
   "cell_type": "code",
   "execution_count": 20,
   "metadata": {},
   "outputs": [
    {
     "name": "stdout",
     "output_type": "stream",
     "text": [
      "0.580797\n"
     ]
    }
   ],
   "source": [
    "print(probDist('john', model, {'earthquake': True})[True])"
   ]
  },
  {
   "cell_type": "code",
   "execution_count": null,
   "metadata": {},
   "outputs": [],
   "source": []
  }
 ],
 "metadata": {
  "kernelspec": {
   "display_name": "Python 3",
   "language": "python",
   "name": "python3"
  },
  "language_info": {
   "codemirror_mode": {
    "name": "ipython",
    "version": 3
   },
   "file_extension": ".py",
   "mimetype": "text/x-python",
   "name": "python",
   "nbconvert_exporter": "python",
   "pygments_lexer": "ipython3",
   "version": "3.7.0"
  }
 },
 "nbformat": 4,
 "nbformat_minor": 2
}
