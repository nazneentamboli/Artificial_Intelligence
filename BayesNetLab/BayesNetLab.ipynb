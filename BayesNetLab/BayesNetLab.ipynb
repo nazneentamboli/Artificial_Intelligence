{
 "cells": [
  {
   "cell_type": "markdown",
   "metadata": {},
   "source": [
    "\n",
    "### Lab Questions\n",
    "\n",
    "The next cell contains the \"water detector\" example from the intro notebook, unchanged.\n",
    "\n",
    "There are two problems following the network definition\n",
    "\n",
    "* Answer the two questions associated with Problem 1 for 1 point\n",
    "* Answer the three questions associated with Problem 2 for 1 additional point\n",
    "\n",
    "Hand in this notebook with your answers in the specified cells.\n",
    "\n",
    "<span style=\"color:red\">Your name here</span>\n",
    "\n",
    "<span style=\"color:red\">Your group number here</span>\n",
    "\n",
    "#### Note\n",
    "\n",
    "* Structure your answers so I can do Restart Kernel and Run All on your notebook, and see your answers\n",
    "* Notice this is a little different from what we usually do for notebooks handed in for assignments, where I don't want \"executed\" code.  In this case your answers will be executed code, not function or class definitions."
   ]
  },
  {
   "cell_type": "code",
   "execution_count": 50,
   "metadata": {},
   "outputs": [],
   "source": [
    "from pomegranate import *\n",
    "\n",
    "# This is the distribution for my water node\n",
    "wdist = DiscreteDistribution({'none': .98, 'some': .015, 'lots': .005})\n",
    "\n",
    "\n",
    "# Distribution for my water detector node\n",
    "detectordist = ConditionalProbabilityTable(\n",
    "    [['none', 'on', 0.01],\n",
    "     ['none', 'off', 0.99],\n",
    "     ['some', 'on', 0.90],\n",
    "     ['some', 'off', 0.10],\n",
    "     ['lots', 'on', 0.995],\n",
    "     ['lots', 'off', .005]], [wdist])\n",
    "\n",
    "#  My two nodes\n",
    "water = Node(wdist, \"water\")\n",
    "waterDetector = Node(detectordist, \"waterDetector\")\n",
    "\n",
    "# The Network\n",
    "model = BayesianNetwork(\"Water Detector\")\n",
    "model.add_states(water, waterDetector)\n",
    "model.add_edge(water, waterDetector)\n",
    "model.bake()\n",
    "                                     "
   ]
  },
  {
   "cell_type": "markdown",
   "metadata": {},
   "source": [
    "####  Problem 1 ####\n",
    "My beliefs about water level change with the season.   There are two seasons, the dry season and the wet season.\n",
    "The season affects my prior belief in the water level, not the behavior of the sensor.   If the season is \n",
    "**wet**  my prior distribution on **water** is\n",
    "{\"none\": 0.80, \"some\": 0.15, \"lots\": 0.05})\n",
    "and if the season is **dry** the distribution is \n",
    "{\"none\": 0.95, \"some\": 0.035, \"lots\": 0.015})\n",
    "\n",
    "Adjust the model accordingly in the cell above \n"
   ]
  },
  {
   "cell_type": "code",
   "execution_count": null,
   "metadata": {},
   "outputs": [],
   "source": [
    "# Suppose I no information (including the season).  \n",
    "# What is the likelihood that there is any water in my basement?  \n",
    "# (I.e. water is not some and not lots)  Answer (single number!) in this cell.\n"
   ]
  },
  {
   "cell_type": "code",
   "execution_count": null,
   "metadata": {},
   "outputs": [],
   "source": [
    "# Suppose it's the dry season, but my water detector is saying **on** -- \n",
    "# what do I believe about water in the basement? Answer in this cell -- three numbers,\n",
    "# a distribution over the domain values (none, some, lots)\n"
   ]
  },
  {
   "cell_type": "markdown",
   "metadata": {},
   "source": [
    "#### Problem 2 ####\n",
    "\n",
    "Code the example from the lectures, about burglaries, alarms, and phone calls\n",
    "* Variables are B (Burglary), E (Earthquake), A (Alarm), J (John calls), M (Mary calls)\n",
    "  * All are true/false\n",
    "* Assumptions we make as domain experts\n",
    "  * Burglaries do not cause earthquakes, and vice versa\n",
    "  * The alarm's behavior depends only on B and E and uncorrelated error behavior (for example, if there is no Burglary or Earthquake, then the likelihood the alarm sounds anyway does not depend on any other factor)\n",
    "  * John and Mary have their own parameters, but those depend only on A, and otherwise they act independently\n",
    "* Parameters we have gathered\n",
    "  * Prob(B) = .001\n",
    "  * Prob(E) = .002\n",
    "  * Prob(A | B,E) = (.95, .94, .29, .001)    ((+b, +e), (+b, -e), (-b, +e), (-b, -e))\n",
    "  * Prob(J | A) = (.9, .45) (+a, -a)\n",
    "  * Prob(M | A) = (.7, .01) (+a, -a)\n",
    " \n",
    " Code this as a Bayes network, and answer these three questions:\n",
    "\n",
    " 1.  My phone is off so I don't know whether or not I got a call.  What is the likelihood there was a burglary?  What is the likelihood my alarm went off?\n",
    "\n",
    " 1.  I just got a call from Mary but not John.  How does that affect my belief that there was a burglary?\n",
    "\n",
    " 1.  I heard a reliable news report that there was an earthquake.  What is the chance I will will be getting a call from John soon?\n"
   ]
  },
  {
   "cell_type": "code",
   "execution_count": null,
   "metadata": {},
   "outputs": [],
   "source": [
    "# Answer to question 1 in this cell"
   ]
  },
  {
   "cell_type": "code",
   "execution_count": null,
   "metadata": {},
   "outputs": [],
   "source": [
    "# Answer to question 2 in this cell"
   ]
  },
  {
   "cell_type": "code",
   "execution_count": null,
   "metadata": {},
   "outputs": [],
   "source": [
    "# Answer to question 3 in this cell"
   ]
  }
 ],
 "metadata": {
  "kernelspec": {
   "display_name": "Python 3",
   "language": "python",
   "name": "python3"
  },
  "language_info": {
   "codemirror_mode": {
    "name": "ipython",
    "version": 3
   },
   "file_extension": ".py",
   "mimetype": "text/x-python",
   "name": "python",
   "nbconvert_exporter": "python",
   "pygments_lexer": "ipython3",
   "version": "3.7.0"
  }
 },
 "nbformat": 4,
 "nbformat_minor": 2
}
