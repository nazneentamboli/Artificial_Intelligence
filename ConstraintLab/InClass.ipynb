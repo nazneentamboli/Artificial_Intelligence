{
 "cells": [
  {
   "cell_type": "markdown",
   "metadata": {},
   "source": [
    "#### Constraint Processing\n",
    "\n",
    "\n",
    "\n",
    "Python Constraint library:\n",
    "\n",
    "* https://pypi.org/project/python-constraint/   (some examples, installation instructions are wrong!)\n",
    "* https://anaconda.org/conda-forge/python-constraint  (installation instructions using Anaconda)"
   ]
  },
  {
   "cell_type": "code",
   "execution_count": 1,
   "metadata": {},
   "outputs": [],
   "source": [
    "from constraint import *"
   ]
  },
  {
   "cell_type": "code",
   "execution_count": null,
   "metadata": {},
   "outputs": [],
   "source": [
    "p = Problem()\n",
    "p.addVariables([\"N1\", \"N2\"], [\"Red\", \"Blue\"])\n",
    "p.addConstraint(lambda a, b: a != b, [\"N1\", \"N2\"])\n",
    "print(p.getSolutions())"
   ]
  },
  {
   "cell_type": "code",
   "execution_count": null,
   "metadata": {},
   "outputs": [],
   "source": [
    "lambda a, b: a != b, \n",
    "[\"N1\", \"N2\"]"
   ]
  },
  {
   "cell_type": "markdown",
   "metadata": {},
   "source": [
    "-------------------"
   ]
  },
  {
   "cell_type": "markdown",
   "metadata": {},
   "source": [
    "Look at the trickiest piece of using the library:  adding a constraint\n",
    "\n",
    "```\n",
    "# Example defining a constraint using a named function\n",
    "\n",
    "def neq(x,y):\n",
    "    return x != y\n",
    "    \n",
    "p.addConstraint(neq, [\"N1\", \"N2\"])\n",
    "```\n",
    "\n",
    "![Library example](libraryExample.GIF)"
   ]
  },
  {
   "cell_type": "code",
   "execution_count": 2,
   "metadata": {},
   "outputs": [
    {
     "name": "stdout",
     "output_type": "stream",
     "text": [
      "[{'a': 3, 'b': 6}, {'a': 3, 'b': 5}, {'a': 3, 'b': 4}, {'a': 2, 'b': 6}, {'a': 2, 'b': 5}, {'a': 2, 'b': 4}, {'a': 1, 'b': 6}, {'a': 1, 'b': 5}, {'a': 1, 'b': 4}]\n",
      "\n",
      "Adding numeric constraint, should see fewer solutions\n",
      "\n",
      "[{'a': 3, 'b': 6}, {'a': 2, 'b': 4}]\n"
     ]
    }
   ],
   "source": [
    "### First example from the python-constraint documentation\n",
    "\n",
    "from constraint import *\n",
    "\n",
    "problem = Problem()\n",
    "\n",
    "problem.addVariable(\"a\", [1,2,3])\n",
    "problem.addVariable(\"b\", [4,5,6])\n",
    "print(problem.getSolutions())\n",
    "\n",
    "print(\"\\nAdding numeric constraint, should see fewer solutions\\n\")\n",
    "\n",
    "problem.addConstraint(lambda a, b: a*2 == b, (\"a\", \"b\"))\n",
    "print(problem.getSolutions())\n"
   ]
  },
  {
   "cell_type": "markdown",
   "metadata": {},
   "source": [
    "-------"
   ]
  },
  {
   "cell_type": "markdown",
   "metadata": {},
   "source": [
    "#### Course to Professor Assignment\n",
    "\n",
    "The classes are\n",
    "\n",
    "  * Class 1 - Intro to Programming: \t    meets from 8:00-9:00am \n",
    "  * Class 2 - Intro to Artificial Intelligence: \tmeets from 8:30-9:30am\n",
    "  * Class 3 - Natural Language Processing: \tmeets from 9:00-10:00am\n",
    "  * Class 4 - Computer Vision: \t\tmeets from 9:00-10:00am \n",
    "  * Class 5 - Machine Learning: \t\tmeets from 9:30-10:30am \n",
    "  \n",
    "The professors are\n",
    "\n",
    "  * Professor A, who is qualified to teach \tClasses 3 and 4\n",
    "  * Professor B, who is qualified to teach \tClasses 2, 3, 4, and 5\n",
    "  * Professor C, who is qualified to teach \tClasses 1, 2, 3, 4, 5\n",
    "\n",
    "Use the constraints library to generate an assignment of professors to courses"
   ]
  },
  {
   "cell_type": "code",
   "execution_count": 7,
   "metadata": {},
   "outputs": [],
   "source": [
    "from constraint import *\n",
    "\n",
    "courses = [\"C1\", \"C2\", \"C3\", \"C4\", \"C5\"]\n",
    "\n",
    "canTeach = {\"ProfA\": [\"C3\", \"C4\"],\n",
    "            \"ProfB\": [\"C2\", \"C3\", \"C4\", \"C5\"],\n",
    "            \"ProfC\": [\"C1\", \"C2\", \"C3\", \"C4\", \"C5\"]}\n",
    "\n",
    "conflicts = {\"C1\": [\"C2\"],\n",
    "            \"C2\": [\"C1\", \"C3\", \"C4\"],\n",
    "            \"C3\": [\"C2\", \"C4\", \"C5\"],\n",
    "            \"C4\": [\"C2\", \"C3\", \"C5\"],\n",
    "            \"C5\": [\"C3\", \"C4\"]}"
   ]
  },
  {
   "cell_type": "code",
   "execution_count": 8,
   "metadata": {},
   "outputs": [],
   "source": [
    "def profsFor(course):\n",
    "    return [p for p in canTeach.keys() if course in canTeach[p]]"
   ]
  },
  {
   "cell_type": "code",
   "execution_count": 9,
   "metadata": {},
   "outputs": [
    {
     "name": "stdout",
     "output_type": "stream",
     "text": [
      "[{'C2': 'ProfB', 'C3': 'ProfC', 'C4': 'ProfA', 'C5': 'ProfB', 'C1': 'ProfC'}, {'C2': 'ProfB', 'C3': 'ProfA', 'C4': 'ProfC', 'C5': 'ProfB', 'C1': 'ProfC'}]\n"
     ]
    }
   ],
   "source": [
    "from constraint import *\n",
    "\n",
    "problem = Problem()\n",
    "\n",
    "for course in courses:\n",
    "    problem.addVariable(course, profsFor(course))\n",
    "    \n",
    "# Two courses that conflict in time cannot be taught by same professor (cannot have same assignment)\n",
    "for course in courses:\n",
    "    for conflictingCourse in conflicts[course]:\n",
    "        problem.addConstraint(lambda a, b: a != b, (course, conflictingCourse))\n",
    "        \n",
    "print(problem.getSolutions())"
   ]
  },
  {
   "cell_type": "code",
   "execution_count": null,
   "metadata": {},
   "outputs": [],
   "source": []
  }
 ],
 "metadata": {
  "kernelspec": {
   "display_name": "Python 3",
   "language": "python",
   "name": "python3"
  },
  "language_info": {
   "codemirror_mode": {
    "name": "ipython",
    "version": 3
   },
   "file_extension": ".py",
   "mimetype": "text/x-python",
   "name": "python",
   "nbconvert_exporter": "python",
   "pygments_lexer": "ipython3",
   "version": "3.7.9"
  }
 },
 "nbformat": 4,
 "nbformat_minor": 2
}
