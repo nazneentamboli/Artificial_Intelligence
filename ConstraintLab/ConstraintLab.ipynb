{
 "cells": [
  {
   "cell_type": "markdown",
   "metadata": {},
   "source": [
    "## CSP Lab!\n",
    "\n",
    "* 1 point for completing the map coloring problem\n",
    "* 1 point for *significant progress* toward solving the job shop scheduling problem"
   ]
  },
  {
   "cell_type": "markdown",
   "metadata": {},
   "source": [
    "<span style=\"color:red\">Your Name(s) and Group Number here</span>"
   ]
  },
  {
   "cell_type": "markdown",
   "metadata": {},
   "source": [
    "#### Map Coloring\n",
    "\n",
    "This is the map coloring example;  Russell and Norvig, Figure 6.1\n",
    "![map example](australia.gif)\n",
    "\n",
    "Express the map-coloring problem from R&N Figure 6.1 as a CSP, and solve it.**\n",
    "\n",
    "Make the possible colors \"B\", \"G\", \"R\", \"Y\"\n"
   ]
  },
  {
   "cell_type": "code",
   "execution_count": null,
   "metadata": {},
   "outputs": [],
   "source": [
    "# Express the locations as a list of strings;  use the same labels as the figure\n",
    "# Express the adjacencies as a list of pairs of locations, for example, [(\"WA\", \"NT\"), ....]\n",
    "locations = None  # Modify this line\n",
    "adjacencies = None #Modify this line\n",
    "\n",
    "# Express colors as a list of strings.  For example for four-coloring\n",
    "colors = [\"B\", \"G\", \"R\", \"Y\"]"
   ]
  },
  {
   "cell_type": "code",
   "execution_count": null,
   "metadata": {},
   "outputs": [],
   "source": [
    "# Write a function mapColor(l, a, c) where the arguments are locations, adjacencies, and colors, represented as above.\n",
    "# This function should return a list with all possible colorings (so it will return the empty list if there are no\n",
    "# consistent colorings).\n",
    "\n",
    "def mapColor(l, a, c):\n",
    "    raise(\"Not implemented\")\n"
   ]
  },
  {
   "cell_type": "code",
   "execution_count": 1,
   "metadata": {},
   "outputs": [],
   "source": [
    "# In this cell, call the function to print *one* solution to the problem in the figure, using the colors\n",
    "# [\"B\", \"G\", \"R\", \"Y\"] or None if no solution exists \n",
    "# This cell should contain executable code"
   ]
  },
  {
   "cell_type": "code",
   "execution_count": null,
   "metadata": {},
   "outputs": [],
   "source": [
    "# In this cell, write a function minColors(l, a) where l and a are locations and adjacencies\n",
    "# as defined above.  It returns the minimum number of colors required to color the map\n",
    "# described by l and a\n",
    "\n",
    "def minColors(l, a):\n",
    "    raise(\"Not implemented\")\n"
   ]
  },
  {
   "cell_type": "code",
   "execution_count": null,
   "metadata": {},
   "outputs": [],
   "source": [
    "# In this cell, call the function to determine the minimum number of colors required\n",
    "# to color the Autralia map.\n",
    "# This cell should contain executable code"
   ]
  },
  {
   "cell_type": "markdown",
   "metadata": {},
   "source": [
    "---------------------------------------"
   ]
  },
  {
   "cell_type": "markdown",
   "metadata": {},
   "source": [
    "#### Job-Shop Scheduling Problem\n",
    "\n",
    "The structure of a job-shop scheduling problem\n",
    "\n",
    "You are given\n",
    "* A set of *jobs*\n",
    "* Each job is a sequence of *tasks*\n",
    "* A task is scheduled at a *time*\n",
    "* A task has a *duration* -- number of time units between start time and stop time.\n",
    "* A task requires 0 or more *resources*\n",
    "\n",
    "**Constraints**\n",
    "* Two tasks that require the same resource must not overlap in time\n",
    "* Tasks in the same job must be scheduled in order, and each task in a job must complete before the next task begins\n",
    "\n",
    "**Problem**\n",
    "* Given a fixed deadline for each job, assign a time to all tasks that satisfies all constraints and such that all jobs complete before the job's deadline\n",
    "\n",
    "**Discrete Time Model**\n",
    "* Task start times are integers starting at 0\n",
    "* If a task starts at time T and has duration D, then it completes at the end of time T+D and the next task can begin at (T+D+1)\n",
    "* Likewise if a job's last task begins at T and ends at T+D, then the job is considered complete at the end of T+D.  That means if the job has a deadline of (T+D+1) or later, the dealine is met, but a deadline of (T+D) is not met"
   ]
  },
  {
   "cell_type": "markdown",
   "metadata": {},
   "source": [
    "#### Specific Scheduling Problem\n",
    "\n",
    "There are four jobs, {J1, J2, J3, J4}\n",
    "\n",
    "Tasks:\n",
    "* J1 has tasks T11, T12, T13\n",
    "* J2 has tasks T21, T22\n",
    "* J3 has tasks T31, T32, T33\n",
    "* J4 has tasks T41, T42\n",
    "\n",
    "Resources:\n",
    "\n",
    "| Task | Resource |\n",
    "| :----- | :---------|\n",
    "| T11 | R1 |\n",
    "| T12 | R2 |\n",
    "| T13 | R3 |\n",
    "| T21 | R1 |\n",
    "| T22 | R2 |\n",
    "| T31 | R3 |\n",
    "| T32 | R1 |\n",
    "| T33 | R2 |\n",
    "| T41 | R4 |\n",
    "| T42 | R2 |\n",
    "\n",
    "\n",
    "\n",
    "* Each job has a deadline of 5\n",
    "* Each task has duration 1\n",
    "* Execution begins at time 0  "
   ]
  },
  {
   "cell_type": "code",
   "execution_count": null,
   "metadata": {},
   "outputs": [],
   "source": [
    "# Same problem specification in code\n",
    "\n",
    "jobs = [\"j1\", \"j2\", \"j3\", \"j4\"]\n",
    "\n",
    "tasks = {\"j1\": [\"t11\", \"t12\", \"t13\"], \n",
    "         \"j2\": [\"t21\", \"t22\"], \n",
    "         \"j3\": [\"t31\", \"t32\", \"t33\"], \n",
    "         \"j4\": [\"t41\", \"t42\"]}\n",
    "\n",
    "resources = {\"r1\": [\"t11\", \"t21\", \"t32\"], \n",
    "             \"r2\": [\"t12\", \"t22\", \"t33\", \"t42\"],\n",
    "             \"r3\": [\"t13\", \"t31\"],\n",
    "             \"r4\": [\"t41\"]}\n",
    "\n",
    "deadlines = {\"j1\": 5, \"j2\": 5, \"j3\": 5, \"j4\": 5}"
   ]
  },
  {
   "cell_type": "code",
   "execution_count": null,
   "metadata": {},
   "outputs": [],
   "source": [
    "# In this cell define a function\n",
    "#   jobShop(jobs, tasks, resources, deadlines)\n",
    "# where jobs, tasks, resources and deadlines are structured as in the cell above\n",
    "#\n",
    "# Returns a list of schedules (assignment of start time to task)\n",
    "\n",
    "def jobShop(jobs, tasks, resources, deadlines):\n",
    "    raise(Exception(\"Not implemented\"))"
   ]
  },
  {
   "cell_type": "code",
   "execution_count": null,
   "metadata": {},
   "outputs": [],
   "source": [
    "# In this cell call your jobShop code with the variables above.\n",
    "# Print a single solution if there is one, otherwise print 'No solution'"
   ]
  }
 ],
 "metadata": {
  "kernelspec": {
   "display_name": "Python 3",
   "language": "python",
   "name": "python3"
  },
  "language_info": {
   "codemirror_mode": {
    "name": "ipython",
    "version": 3
   },
   "file_extension": ".py",
   "mimetype": "text/x-python",
   "name": "python",
   "nbconvert_exporter": "python",
   "pygments_lexer": "ipython3",
   "version": "3.7.9"
  }
 },
 "nbformat": 4,
 "nbformat_minor": 2
}
