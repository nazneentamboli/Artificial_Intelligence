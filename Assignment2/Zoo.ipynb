{
 "cells": [
  {
   "cell_type": "markdown",
   "metadata": {},
   "source": [
    "### Zoo by Constraint Sovling\n",
    "### Instructions for Handing In\n",
    "\n",
    "Your handed-in notebook should contain exactly two cells\n",
    "1.  A single markdown cell at the beginning of the notebook, with your name\n",
    "1.  Two code cells with the code implementing the two functions described below"
   ]
  },
  {
   "cell_type": "markdown",
   "metadata": {},
   "source": [
    "####  Zoo Solution\n",
    "\n",
    "<span style=\"color:red\">Your Name Here</span>"
   ]
  },
  {
   "cell_type": "markdown",
   "metadata": {},
   "source": [
    "#### The Zoo in Killian Court\n",
    "\n",
    "(This is from an old MIT problem set.)\n",
    "\n",
    "MIT has decided to open a new zoo in Killian Court. They have obtained seven\n",
    "animals and built four enclosures. Because there are more animals than enclosures, some animals\n",
    "have to be in the same enclosures as others. However, the animals are very picky about who they live\n",
    "with. The MIT administration is having trouble assigning animals to enclosures, just as they often have\n",
    "trouble assigning students to residences. They have asked you to plan where\n",
    "each animal goes.\n",
    "\n",
    "The animals chosen are a LION, ANTELOPE, HYENA, EVIL LION, HORNBILL, MEERKAT, and BOAR.\n",
    "\n",
    "![Zoo](zoo.GIF)\n",
    "\n",
    "Each numbered area is a zoo enclosure. Multiple animals can go into the same enclosure, and not all\n",
    "enclosures have to be filled.\n",
    "\n",
    "Each animal has restrictions about where it can be placed.\n",
    "\n",
    "1. The LION and the EVIL LION hate each other, and do not want to be in the same enclosure.\n",
    "1. The MEERKAT and BOAR are best friends, and have to be in the same enclosure.\n",
    "1. The HYENA smells bad. Only the EVIL LION will share his enclosure.\n",
    "1. The EVIL LION wants to eat the MEERKAT, BOAR, and HORNBILL.\n",
    "1. The LION and the EVIL LION want to eat the ANTELOPE so badly that the ANTELOPE cannot be\n",
    "in either the same enclosure or in an enclosure adjacent to the LION or EVIL LION.\n",
    "1. The LION annoys the HORNBILL, so the HORNBILL doesn't want to be in the LION's enclosure.\n",
    "1. The LION is king, so he wants to be in enclosure 1."
   ]
  },
  {
   "cell_type": "code",
   "execution_count": null,
   "metadata": {},
   "outputs": [],
   "source": [
    "## Write the function solveZoo() which returns a list of all solutions to the problem,\n",
    "## where a solution is a dictionary as returned by problem.getSolution()\n",
    "\n",
    "## You must use these animal names\n",
    "animals = [\"Lion\", \"Antelope\", \"Hyena\", \"EvilLion\", \"Hornbill\", \"Meerkat\", \"Boar\"]\n",
    "\n",
    "def solveZoo():\n",
    "    raise(Exception(\"Not implemented\"))"
   ]
  },
  {
   "cell_type": "code",
   "execution_count": null,
   "metadata": {},
   "outputs": [],
   "source": [
    "## Write a function whereCanIPut(animal) which returns a list of enclosure numbers -- \n",
    "## all enclosures the animal can be put in, in any valid assignment.  The list returned\n",
    "## must be sorted, and must have no duplicates.  The function must throw an exception\n",
    "## if the input is not a valid animal name.\n",
    "\n",
    "## For example, \n",
    "##   print(whereCanIPut(\"Lion\"))\n",
    "##      [1]\n",
    "\n",
    "def whereCanIPut(animal):\n",
    "    raise(Exception(\"Not implemented\"))\n"
   ]
  }
 ],
 "metadata": {
  "kernelspec": {
   "display_name": "Python 3",
   "language": "python",
   "name": "python3"
  },
  "language_info": {
   "codemirror_mode": {
    "name": "ipython",
    "version": 3
   },
   "file_extension": ".py",
   "mimetype": "text/x-python",
   "name": "python",
   "nbconvert_exporter": "python",
   "pygments_lexer": "ipython3",
   "version": "3.7.0"
  }
 },
 "nbformat": 4,
 "nbformat_minor": 2
}
