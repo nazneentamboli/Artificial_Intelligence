{
 "cells": [
  {
   "cell_type": "markdown",
   "metadata": {},
   "source": [
    "### Strimko by Constraint Sovling\n",
    "### Instructions for Handing In\n",
    "\n",
    "Your handed-in notebook should contain exactly two cells\n",
    "1.  A single markdown cell at the beginning of the notebook, with your name\n",
    "1.  A single code cell containing your function definition for solveStrimko\n"
   ]
  },
  {
   "cell_type": "markdown",
   "metadata": {},
   "source": [
    "####  Strimko Solution\n",
    "\n",
    "<span style=\"color:red\">Your Name Here</span>"
   ]
  },
  {
   "cell_type": "markdown",
   "metadata": {},
   "source": [
    "##### Strimko Problem Definition\n",
    "\n",
    "Input\n",
    "1.  Initial assignments -- an NxN array.  Every entry in the array must be a positive integer between 1 and N, or 0.  A positive value is the initial value for that row and column.  A zero means the (row, column) begins unassigned.  Initial assignments must respect the game rules: the same value must not appear in the same row, column, or chain\n",
    "2.  Chains -- a list of length at most N.  Each entry in the list is a list of (row, column) tuples defining a chain (a set of positions that are adjacent, and must not contain the same value. An pair (r,c) in the chains list corresponds to an index in the initial and solution array:   `initial[row][column]` \n",
    "\n",
    "Output\n",
    "1.  Solution board:  an NxN array where every (row, column) is assigned a value between 1 and N inclusive, and the assignment must satisfy row, column, and chain constraints"
   ]
  },
  {
   "cell_type": "code",
   "execution_count": null,
   "metadata": {},
   "outputs": [],
   "source": [
    "# Function accepts:\n",
    "#   initialAssignments and chains as defined above\n",
    "#\n",
    "# returns:  solutionBoard as defined above\n",
    "# Your function may assume that initialAssignments and chains argument are correct\n",
    "\n",
    "\n",
    "def solveStrimko(initialAssignments, chains):\n",
    "    raise(Exception(\"Not Implemented\"))"
   ]
  },
  {
   "cell_type": "markdown",
   "metadata": {},
   "source": [
    "#### Two Examples\n",
    "Delete this cell from your handed-in work.\n",
    "\n",
    "<pre>\n",
    "initials1 = [[0, 0, 0], [1,0,2], [0, 0, 0]]\n",
    "chains1   = [[(0,0), (0,1), (1,0)],\n",
    "             [(0,2), (1,1), (2,0)],\n",
    "             [(2,1), (2,2), (1,2)]])\n",
    "                   \n",
    "print(solveStrimko(initials1, chains1))\n",
    "[[[3, 2, 1], [1, 3, 2], [2, 1, 3]]]\n",
    "\n",
    "====================\n",
    "\n",
    "initials2 = [[0,0,0,0], [0,0,2,0], [0,4,0,0], [0,0,0,0]]\n",
    "chains2   = [[(0,0), (1,1), (2,0), (0,2)], \n",
    "             [(1,0), (0,1), (1,2), (0,3)],\n",
    "             [(3,0), (2,1), (3,2), (2,3)],\n",
    "             [(3,1), (2,2), (1,3), (3,3)]])\n",
    "              \n",
    "print(solveStrimko(initials2, chains2))\n",
    "[[[2, 3, 4, 1], [4, 1, 2, 3], [3, 4, 1, 2], [1, 2, 3, 4]],\n",
    " [[2, 1, 4, 3], [4, 3, 2, 1], [1, 4, 3, 2], [3, 2, 1, 4]]]\n",
    "</pre>\n"
   ]
  }
 ],
 "metadata": {
  "kernelspec": {
   "display_name": "Python 3",
   "language": "python",
   "name": "python3"
  },
  "language_info": {
   "codemirror_mode": {
    "name": "ipython",
    "version": 3
   },
   "file_extension": ".py",
   "mimetype": "text/x-python",
   "name": "python",
   "nbconvert_exporter": "python",
   "pygments_lexer": "ipython3",
   "version": "3.7.0"
  }
 },
 "nbformat": 4,
 "nbformat_minor": 2
}
